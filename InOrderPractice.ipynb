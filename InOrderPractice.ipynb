{
 "cells": [
  {
   "cell_type": "markdown",
   "metadata": {},
   "source": [
    "Input: nums = [2,7,11,15], target = 9\n",
    "Output: [0,1]"
   ]
  },
  {
   "cell_type": "code",
   "execution_count": null,
   "metadata": {},
   "outputs": [],
   "source": [
    "class Solution:\n",
    "    def twoSum(self, nums: List[int], target: int) -> List[int]:\n",
    "        "
   ]
  },
  {
   "cell_type": "code",
   "execution_count": 8,
   "metadata": {},
   "outputs": [],
   "source": [
    "import os\n",
    "#Change 2"
   ]
  },
  {
   "cell_type": "code",
   "execution_count": 62,
   "metadata": {},
   "outputs": [
    {
     "name": "stdout",
     "output_type": "stream",
     "text": [
      "[0,1]\n"
     ]
    }
   ],
   "source": [
    "\n",
    "nums.sort()\n",
    "\n",
    "for index, value in enumerate(nums, start=0):\n",
    "    for index2, value2 in enumerate(nums[index+1:], start = index+1):\n",
    "        if value2+value == target:\n",
    "            print(f'[{index},{index2}]')\n",
    "\n",
    "    "
   ]
  },
  {
   "cell_type": "code",
   "execution_count": 76,
   "metadata": {},
   "outputs": [
    {
     "name": "stdout",
     "output_type": "stream",
     "text": [
      "{}\n",
      "{0: 0}\n",
      "{0: 0, 4: 1}\n",
      "{0: 0, 4: 1, 3: 2}\n",
      "[3, 0]\n"
     ]
    }
   ],
   "source": [
    "nums = [0,4,3,0]\n",
    "target = 0\n",
    "\n",
    "\n",
    "seen = {}\n",
    "i = 0\n",
    "while i < len(nums):\n",
    "    num = nums[i]\n",
    "    complement = target - num\n",
    "    print(seen)\n",
    "    if complement in seen:\n",
    "        print([i, seen[complement]])\n",
    "    seen[num] = i\n",
    "    i += 1\n"
   ]
  },
  {
   "cell_type": "code",
   "execution_count": null,
   "metadata": {},
   "outputs": [],
   "source": [
    "#2 \n"
   ]
  }
 ],
 "metadata": {
  "kernelspec": {
   "display_name": "Python 3",
   "language": "python",
   "name": "python3"
  },
  "language_info": {
   "codemirror_mode": {
    "name": "ipython",
    "version": 3
   },
   "file_extension": ".py",
   "mimetype": "text/x-python",
   "name": "python",
   "nbconvert_exporter": "python",
   "pygments_lexer": "ipython3",
   "version": "3.10.13"
  }
 },
 "nbformat": 4,
 "nbformat_minor": 2
}
